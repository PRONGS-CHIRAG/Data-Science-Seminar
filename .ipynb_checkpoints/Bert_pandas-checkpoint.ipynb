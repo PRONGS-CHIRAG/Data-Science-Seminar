{
 "cells": [
  {
   "cell_type": "code",
   "execution_count": 2,
   "id": "b96aab7e",
   "metadata": {},
   "outputs": [],
   "source": [
    "#importing packages\n",
    "import numpy as np\n",
    "import pandas as pd\n",
    "import tensorflow as tf\n",
    "import keras\n",
    "import matplotlib.pyplot as plt\n",
    "from keras.datasets import imdb"
   ]
  },
  {
   "cell_type": "code",
   "execution_count": 3,
   "id": "fbe4091f",
   "metadata": {},
   "outputs": [
    {
     "name": "stdout",
     "output_type": "stream",
     "text": [
      "Requirement already satisfied: transformers in c:\\users\\chirag\\.conda\\envs\\tf\\lib\\site-packages (4.29.2)\n",
      "Requirement already satisfied: pyyaml>=5.1 in c:\\users\\chirag\\.conda\\envs\\tf\\lib\\site-packages (from transformers) (6.0)\n",
      "Requirement already satisfied: tokenizers!=0.11.3,<0.14,>=0.11.1 in c:\\users\\chirag\\.conda\\envs\\tf\\lib\\site-packages (from transformers) (0.13.3)\n",
      "Requirement already satisfied: huggingface-hub<1.0,>=0.14.1 in c:\\users\\chirag\\.conda\\envs\\tf\\lib\\site-packages (from transformers) (0.14.1)\n",
      "Requirement already satisfied: tqdm>=4.27 in c:\\users\\chirag\\.conda\\envs\\tf\\lib\\site-packages (from transformers) (4.65.0)\n",
      "Requirement already satisfied: numpy>=1.17 in c:\\users\\chirag\\.conda\\envs\\tf\\lib\\site-packages (from transformers) (1.24.2)\n",
      "Requirement already satisfied: regex!=2019.12.17 in c:\\users\\chirag\\.conda\\envs\\tf\\lib\\site-packages (from transformers) (2023.5.5)\n",
      "Requirement already satisfied: packaging>=20.0 in c:\\users\\chirag\\.conda\\envs\\tf\\lib\\site-packages (from transformers) (23.0)\n",
      "Requirement already satisfied: requests in c:\\users\\chirag\\.conda\\envs\\tf\\lib\\site-packages (from transformers) (2.28.1)\n",
      "Requirement already satisfied: filelock in c:\\users\\chirag\\.conda\\envs\\tf\\lib\\site-packages (from transformers) (3.12.0)\n",
      "Requirement already satisfied: fsspec in c:\\users\\chirag\\.conda\\envs\\tf\\lib\\site-packages (from huggingface-hub<1.0,>=0.14.1->transformers) (2023.5.0)\n",
      "Requirement already satisfied: typing-extensions>=3.7.4.3 in c:\\users\\chirag\\.conda\\envs\\tf\\lib\\site-packages (from huggingface-hub<1.0,>=0.14.1->transformers) (4.4.0)\n",
      "Requirement already satisfied: colorama in c:\\users\\chirag\\.conda\\envs\\tf\\lib\\site-packages (from tqdm>=4.27->transformers) (0.4.6)\n",
      "Requirement already satisfied: charset-normalizer<3,>=2 in c:\\users\\chirag\\.conda\\envs\\tf\\lib\\site-packages (from requests->transformers) (2.0.4)\n",
      "Requirement already satisfied: idna<4,>=2.5 in c:\\users\\chirag\\.conda\\envs\\tf\\lib\\site-packages (from requests->transformers) (3.4)\n",
      "Requirement already satisfied: certifi>=2017.4.17 in c:\\users\\chirag\\.conda\\envs\\tf\\lib\\site-packages (from requests->transformers) (2023.5.7)\n",
      "Requirement already satisfied: urllib3<1.27,>=1.21.1 in c:\\users\\chirag\\.conda\\envs\\tf\\lib\\site-packages (from requests->transformers) (1.26.15)\n"
     ]
    },
    {
     "name": "stderr",
     "output_type": "stream",
     "text": [
      "[nltk_data] Downloading package stopwords to\n",
      "[nltk_data]     C:\\Users\\Chirag\\AppData\\Roaming\\nltk_data...\n",
      "[nltk_data]   Package stopwords is already up-to-date!\n"
     ]
    },
    {
     "name": "stdout",
     "output_type": "stream",
     "text": [
      "Requirement already satisfied: bert-for-tf2 in c:\\users\\chirag\\.conda\\envs\\tf\\lib\\site-packages (0.14.9)\n",
      "Requirement already satisfied: params-flow>=0.8.0 in c:\\users\\chirag\\.conda\\envs\\tf\\lib\\site-packages (from bert-for-tf2) (0.8.2)\n",
      "Requirement already satisfied: py-params>=0.9.6 in c:\\users\\chirag\\.conda\\envs\\tf\\lib\\site-packages (from bert-for-tf2) (0.10.2)\n",
      "Requirement already satisfied: numpy in c:\\users\\chirag\\.conda\\envs\\tf\\lib\\site-packages (from params-flow>=0.8.0->bert-for-tf2) (1.24.2)\n",
      "Requirement already satisfied: tqdm in c:\\users\\chirag\\.conda\\envs\\tf\\lib\\site-packages (from params-flow>=0.8.0->bert-for-tf2) (4.65.0)\n",
      "Requirement already satisfied: colorama in c:\\users\\chirag\\.conda\\envs\\tf\\lib\\site-packages (from tqdm->params-flow>=0.8.0->bert-for-tf2) (0.4.6)\n"
     ]
    }
   ],
   "source": [
    "!pip install transformers\n",
    "import nltk\n",
    "nltk.download('stopwords')\n",
    "!pip install bert-for-tf2"
   ]
  },
  {
   "cell_type": "code",
   "execution_count": 4,
   "id": "4b7f01e9",
   "metadata": {},
   "outputs": [
    {
     "name": "stdout",
     "output_type": "stream",
     "text": [
      "TensorFlow Version: 2.10.0\n",
      "Hub version:  0.8.0\n"
     ]
    }
   ],
   "source": [
    "import os\n",
    "import bert\n",
    "import numpy as np\n",
    "import pandas as pd\n",
    "import tensorflow as tf\n",
    "import tensorflow_hub as hub\n",
    "from tensorflow.keras.utils import to_categorical\n",
    "from tensorflow.keras.models import  Model\n",
    "from tensorflow.keras.layers import Input, Dense, Dropout\n",
    "from tensorflow.keras.optimizers import Adam\n",
    "from tensorflow.keras.callbacks import ModelCheckpoint, TensorBoard\n",
    "from tqdm import tqdm\n",
    "import matplotlib.pyplot as plt\n",
    "\n",
    "print(\"TensorFlow Version:\",tf.__version__)\n",
    "print(\"Hub version: \",hub.__version__)\n",
    "pd.set_option('display.max_colwidth',900)"
   ]
  },
  {
   "cell_type": "code",
   "execution_count": 5,
   "id": "8bbe4411",
   "metadata": {},
   "outputs": [],
   "source": [
    "#loading the data\n",
    "df = pd.read_csv('IMDB Dataset.csv')\n",
    "    \n"
   ]
  },
  {
   "cell_type": "code",
   "execution_count": 6,
   "id": "25771803",
   "metadata": {},
   "outputs": [
    {
     "data": {
      "text/html": [
       "<div>\n",
       "<style scoped>\n",
       "    .dataframe tbody tr th:only-of-type {\n",
       "        vertical-align: middle;\n",
       "    }\n",
       "\n",
       "    .dataframe tbody tr th {\n",
       "        vertical-align: top;\n",
       "    }\n",
       "\n",
       "    .dataframe thead th {\n",
       "        text-align: right;\n",
       "    }\n",
       "</style>\n",
       "<table border=\"1\" class=\"dataframe\">\n",
       "  <thead>\n",
       "    <tr style=\"text-align: right;\">\n",
       "      <th></th>\n",
       "      <th>review</th>\n",
       "      <th>sentiment</th>\n",
       "    </tr>\n",
       "  </thead>\n",
       "  <tbody>\n",
       "    <tr>\n",
       "      <th>0</th>\n",
       "      <td>One of the other reviewers has mentioned that after watching just 1 Oz episode you'll be hooked. They are right, as this is exactly what happened with me.&lt;br /&gt;&lt;br /&gt;The first thing that struck me about Oz was its brutality and unflinching scenes of violence, which set in right from the word GO. Trust me, this is not a show for the faint hearted or timid. This show pulls no punches with regards to drugs, sex or violence. Its is hardcore, in the classic use of the word.&lt;br /&gt;&lt;br /&gt;It is called OZ as that is the nickname given to the Oswald Maximum Security State Penitentary. It focuses mainly on Emerald City, an experimental section of the prison where all the cells have glass fronts and face inwards, so privacy is not high on the agenda. Em City is home to many..Aryans, Muslims, gangstas, Latinos, Christians, Italians, Irish and more....so scuffles, death stares, dodgy dealings and s...</td>\n",
       "      <td>positive</td>\n",
       "    </tr>\n",
       "    <tr>\n",
       "      <th>1</th>\n",
       "      <td>A wonderful little production. &lt;br /&gt;&lt;br /&gt;The filming technique is very unassuming- very old-time-BBC fashion and gives a comforting, and sometimes discomforting, sense of realism to the entire piece. &lt;br /&gt;&lt;br /&gt;The actors are extremely well chosen- Michael Sheen not only \"has got all the polari\" but he has all the voices down pat too! You can truly see the seamless editing guided by the references to Williams' diary entries, not only is it well worth the watching but it is a terrificly written and performed piece. A masterful production about one of the great master's of comedy and his life. &lt;br /&gt;&lt;br /&gt;The realism really comes home with the little things: the fantasy of the guard which, rather than use the traditional 'dream' techniques remains solid then disappears. It plays on our knowledge and our senses, particularly with the scenes concerning Orton and Halliwell and the sets...</td>\n",
       "      <td>positive</td>\n",
       "    </tr>\n",
       "    <tr>\n",
       "      <th>2</th>\n",
       "      <td>I thought this was a wonderful way to spend time on a too hot summer weekend, sitting in the air conditioned theater and watching a light-hearted comedy. The plot is simplistic, but the dialogue is witty and the characters are likable (even the well bread suspected serial killer). While some may be disappointed when they realize this is not Match Point 2: Risk Addiction, I thought it was proof that Woody Allen is still fully in control of the style many of us have grown to love.&lt;br /&gt;&lt;br /&gt;This was the most I'd laughed at one of Woody's comedies in years (dare I say a decade?). While I've never been impressed with Scarlet Johanson, in this she managed to tone down her \"sexy\" image and jumped right into a average, but spirited young woman.&lt;br /&gt;&lt;br /&gt;This may not be the crown jewel of his career, but it was wittier than \"Devil Wears Prada\" and more interesting than \"Superman\" a great ...</td>\n",
       "      <td>positive</td>\n",
       "    </tr>\n",
       "    <tr>\n",
       "      <th>3</th>\n",
       "      <td>Basically there's a family where a little boy (Jake) thinks there's a zombie in his closet &amp; his parents are fighting all the time.&lt;br /&gt;&lt;br /&gt;This movie is slower than a soap opera... and suddenly, Jake decides to become Rambo and kill the zombie.&lt;br /&gt;&lt;br /&gt;OK, first of all when you're going to make a film you must Decide if its a thriller or a drama! As a drama the movie is watchable. Parents are divorcing &amp; arguing like in real life. And then we have Jake with his closet which totally ruins all the film! I expected to see a BOOGEYMAN similar movie, and instead i watched a drama with some meaningless thriller spots.&lt;br /&gt;&lt;br /&gt;3 out of 10 just for the well playing parents &amp; descent dialogs. As for the shots with Jake: just ignore them.</td>\n",
       "      <td>negative</td>\n",
       "    </tr>\n",
       "    <tr>\n",
       "      <th>4</th>\n",
       "      <td>Petter Mattei's \"Love in the Time of Money\" is a visually stunning film to watch. Mr. Mattei offers us a vivid portrait about human relations. This is a movie that seems to be telling us what money, power and success do to people in the different situations we encounter. &lt;br /&gt;&lt;br /&gt;This being a variation on the Arthur Schnitzler's play about the same theme, the director transfers the action to the present time New York where all these different characters meet and connect. Each one is connected in one way, or another to the next person, but no one seems to know the previous point of contact. Stylishly, the film has a sophisticated luxurious look. We are taken to see how these people live and the world they live in their own habitat.&lt;br /&gt;&lt;br /&gt;The only thing one gets out of all these souls in the picture is the different stages of loneliness each one inhabits. A big city is not exac...</td>\n",
       "      <td>positive</td>\n",
       "    </tr>\n",
       "  </tbody>\n",
       "</table>\n",
       "</div>"
      ],
      "text/plain": [
       "                                                                                                                                                                                                                                                                                                                                                                                                                                                                                                                                                                                                                                                                                                                                                                                                                                                                                                                                review  \\\n",
       "0  One of the other reviewers has mentioned that after watching just 1 Oz episode you'll be hooked. They are right, as this is exactly what happened with me.<br /><br />The first thing that struck me about Oz was its brutality and unflinching scenes of violence, which set in right from the word GO. Trust me, this is not a show for the faint hearted or timid. This show pulls no punches with regards to drugs, sex or violence. Its is hardcore, in the classic use of the word.<br /><br />It is called OZ as that is the nickname given to the Oswald Maximum Security State Penitentary. It focuses mainly on Emerald City, an experimental section of the prison where all the cells have glass fronts and face inwards, so privacy is not high on the agenda. Em City is home to many..Aryans, Muslims, gangstas, Latinos, Christians, Italians, Irish and more....so scuffles, death stares, dodgy dealings and s...   \n",
       "1  A wonderful little production. <br /><br />The filming technique is very unassuming- very old-time-BBC fashion and gives a comforting, and sometimes discomforting, sense of realism to the entire piece. <br /><br />The actors are extremely well chosen- Michael Sheen not only \"has got all the polari\" but he has all the voices down pat too! You can truly see the seamless editing guided by the references to Williams' diary entries, not only is it well worth the watching but it is a terrificly written and performed piece. A masterful production about one of the great master's of comedy and his life. <br /><br />The realism really comes home with the little things: the fantasy of the guard which, rather than use the traditional 'dream' techniques remains solid then disappears. It plays on our knowledge and our senses, particularly with the scenes concerning Orton and Halliwell and the sets...   \n",
       "2  I thought this was a wonderful way to spend time on a too hot summer weekend, sitting in the air conditioned theater and watching a light-hearted comedy. The plot is simplistic, but the dialogue is witty and the characters are likable (even the well bread suspected serial killer). While some may be disappointed when they realize this is not Match Point 2: Risk Addiction, I thought it was proof that Woody Allen is still fully in control of the style many of us have grown to love.<br /><br />This was the most I'd laughed at one of Woody's comedies in years (dare I say a decade?). While I've never been impressed with Scarlet Johanson, in this she managed to tone down her \"sexy\" image and jumped right into a average, but spirited young woman.<br /><br />This may not be the crown jewel of his career, but it was wittier than \"Devil Wears Prada\" and more interesting than \"Superman\" a great ...   \n",
       "3                                                                                                                                                         Basically there's a family where a little boy (Jake) thinks there's a zombie in his closet & his parents are fighting all the time.<br /><br />This movie is slower than a soap opera... and suddenly, Jake decides to become Rambo and kill the zombie.<br /><br />OK, first of all when you're going to make a film you must Decide if its a thriller or a drama! As a drama the movie is watchable. Parents are divorcing & arguing like in real life. And then we have Jake with his closet which totally ruins all the film! I expected to see a BOOGEYMAN similar movie, and instead i watched a drama with some meaningless thriller spots.<br /><br />3 out of 10 just for the well playing parents & descent dialogs. As for the shots with Jake: just ignore them.   \n",
       "4  Petter Mattei's \"Love in the Time of Money\" is a visually stunning film to watch. Mr. Mattei offers us a vivid portrait about human relations. This is a movie that seems to be telling us what money, power and success do to people in the different situations we encounter. <br /><br />This being a variation on the Arthur Schnitzler's play about the same theme, the director transfers the action to the present time New York where all these different characters meet and connect. Each one is connected in one way, or another to the next person, but no one seems to know the previous point of contact. Stylishly, the film has a sophisticated luxurious look. We are taken to see how these people live and the world they live in their own habitat.<br /><br />The only thing one gets out of all these souls in the picture is the different stages of loneliness each one inhabits. A big city is not exac...   \n",
       "\n",
       "  sentiment  \n",
       "0  positive  \n",
       "1  positive  \n",
       "2  positive  \n",
       "3  negative  \n",
       "4  positive  "
      ]
     },
     "execution_count": 6,
     "metadata": {},
     "output_type": "execute_result"
    }
   ],
   "source": [
    "df.head()"
   ]
  },
  {
   "cell_type": "code",
   "execution_count": 7,
   "id": "0ee97e51",
   "metadata": {},
   "outputs": [
    {
     "name": "stdout",
     "output_type": "stream",
     "text": [
      "Shape of dataset -  (50000, 2)\n"
     ]
    }
   ],
   "source": [
    "print('Shape of dataset - ',df.shape)"
   ]
  },
  {
   "cell_type": "code",
   "execution_count": 8,
   "id": "ed8c2324",
   "metadata": {},
   "outputs": [],
   "source": [
    "def findmissingvals(df):\n",
    "    return sum(df['review'].isnull()) + sum(df['sentiment'].isnull())"
   ]
  },
  {
   "cell_type": "code",
   "execution_count": 9,
   "id": "f506f3bb",
   "metadata": {},
   "outputs": [
    {
     "data": {
      "text/plain": [
       "0"
      ]
     },
     "execution_count": 9,
     "metadata": {},
     "output_type": "execute_result"
    }
   ],
   "source": [
    "findmissingvals(df)"
   ]
  },
  {
   "cell_type": "code",
   "execution_count": 10,
   "id": "d8a24607",
   "metadata": {},
   "outputs": [
    {
     "name": "stdout",
     "output_type": "stream",
     "text": [
      "13704\n",
      "1309.43102\n"
     ]
    }
   ],
   "source": [
    "MAX_SEQ_LEN = 0\n",
    "seq_len = []\n",
    "for sent in df[\"review\"]:\n",
    "    if len(sent) > MAX_SEQ_LEN: MAX_SEQ_LEN = len(sent)\n",
    "    seq_len.append(len(sent))\n",
    "print(MAX_SEQ_LEN)\n",
    "print(sum(seq_len)/len(df))"
   ]
  },
  {
   "cell_type": "code",
   "execution_count": 11,
   "id": "ee2e25db",
   "metadata": {},
   "outputs": [
    {
     "name": "stderr",
     "output_type": "stream",
     "text": [
      "C:\\Users\\Chirag\\.conda\\envs\\tf\\lib\\site-packages\\tqdm\\auto.py:21: TqdmWarning: IProgress not found. Please update jupyter and ipywidgets. See https://ipywidgets.readthedocs.io/en/stable/user_install.html\n",
      "  from .autonotebook import tqdm as notebook_tqdm\n"
     ]
    },
    {
     "name": "stdout",
     "output_type": "stream",
     "text": [
      "['hi', 'this', 'is', 'a', 'sample', 'sentence']\n",
      "[7632, 2023, 2003, 1037, 7099, 6251]\n",
      "[101, 102]\n"
     ]
    }
   ],
   "source": [
    "from transformers import BertTokenizer, TFBertModel\n",
    "tokenizer = BertTokenizer.from_pretrained('bert-large-uncased')\n",
    "tokens = tokenizer.tokenize(\"Hi this is a sample sentence\")\n",
    "print(tokens)\n",
    "ids = tokenizer.convert_tokens_to_ids(tokens)\n",
    "print(ids)\n",
    "print(tokenizer.convert_tokens_to_ids(['[CLS]', '[SEP]']))"
   ]
  },
  {
   "cell_type": "code",
   "execution_count": 16,
   "id": "866aeb41",
   "metadata": {},
   "outputs": [],
   "source": [
    "tokenized_reviews = []\n",
    "def tokenize(df):\n",
    "    for review in df.review:\n",
    "        tokens = tokenizer.tokenize(review)\n",
    "    tokenized_reviews.append(tokens)\n",
    "    return tokenized_reviews\n"
   ]
  },
  {
   "cell_type": "code",
   "execution_count": 17,
   "id": "3fc4ca6d",
   "metadata": {},
   "outputs": [
    {
     "data": {
      "text/plain": [
       "[['no',\n",
       "  'one',\n",
       "  'expects',\n",
       "  'the',\n",
       "  'star',\n",
       "  'trek',\n",
       "  'movies',\n",
       "  'to',\n",
       "  'be',\n",
       "  'high',\n",
       "  'art',\n",
       "  ',',\n",
       "  'but',\n",
       "  'the',\n",
       "  'fans',\n",
       "  'do',\n",
       "  'expect',\n",
       "  'a',\n",
       "  'movie',\n",
       "  'that',\n",
       "  'is',\n",
       "  'as',\n",
       "  'good',\n",
       "  'as',\n",
       "  'some',\n",
       "  'of',\n",
       "  'the',\n",
       "  'best',\n",
       "  'episodes',\n",
       "  '.',\n",
       "  'unfortunately',\n",
       "  ',',\n",
       "  'this',\n",
       "  'movie',\n",
       "  'had',\n",
       "  'a',\n",
       "  'mud',\n",
       "  '##dled',\n",
       "  ',',\n",
       "  'imp',\n",
       "  '##laus',\n",
       "  '##ible',\n",
       "  'plot',\n",
       "  'that',\n",
       "  'just',\n",
       "  'left',\n",
       "  'me',\n",
       "  'cr',\n",
       "  '##inging',\n",
       "  '-',\n",
       "  'this',\n",
       "  'is',\n",
       "  'by',\n",
       "  'far',\n",
       "  'the',\n",
       "  'worst',\n",
       "  'of',\n",
       "  'the',\n",
       "  'nine',\n",
       "  '(',\n",
       "  'so',\n",
       "  'far',\n",
       "  ')',\n",
       "  'movies',\n",
       "  '.',\n",
       "  'even',\n",
       "  'the',\n",
       "  'chance',\n",
       "  'to',\n",
       "  'watch',\n",
       "  'the',\n",
       "  'well',\n",
       "  'known',\n",
       "  'characters',\n",
       "  'interact',\n",
       "  'in',\n",
       "  'another',\n",
       "  'movie',\n",
       "  'can',\n",
       "  \"'\",\n",
       "  't',\n",
       "  'save',\n",
       "  'this',\n",
       "  'movie',\n",
       "  '-',\n",
       "  'including',\n",
       "  'the',\n",
       "  'goofy',\n",
       "  'scenes',\n",
       "  'with',\n",
       "  'kirk',\n",
       "  ',',\n",
       "  'sp',\n",
       "  '##ock',\n",
       "  'and',\n",
       "  'mccoy',\n",
       "  'at',\n",
       "  'yo',\n",
       "  '##se',\n",
       "  '##mite',\n",
       "  '.',\n",
       "  '<',\n",
       "  'br',\n",
       "  '/',\n",
       "  '>',\n",
       "  '<',\n",
       "  'br',\n",
       "  '/',\n",
       "  '>',\n",
       "  'i',\n",
       "  'would',\n",
       "  'say',\n",
       "  'this',\n",
       "  'movie',\n",
       "  'is',\n",
       "  'not',\n",
       "  'worth',\n",
       "  'a',\n",
       "  'rental',\n",
       "  ',',\n",
       "  'and',\n",
       "  'hardly',\n",
       "  'worth',\n",
       "  'watching',\n",
       "  ',',\n",
       "  'however',\n",
       "  'for',\n",
       "  'the',\n",
       "  'true',\n",
       "  'fan',\n",
       "  'who',\n",
       "  'needs',\n",
       "  'to',\n",
       "  'see',\n",
       "  'all',\n",
       "  'the',\n",
       "  'movies',\n",
       "  ',',\n",
       "  'rent',\n",
       "  '##ing',\n",
       "  'this',\n",
       "  'movie',\n",
       "  'is',\n",
       "  'about',\n",
       "  'the',\n",
       "  'only',\n",
       "  'way',\n",
       "  'you',\n",
       "  \"'\",\n",
       "  'll',\n",
       "  'see',\n",
       "  'it',\n",
       "  '-',\n",
       "  'even',\n",
       "  'the',\n",
       "  'cable',\n",
       "  'channels',\n",
       "  'avoid',\n",
       "  'this',\n",
       "  'movie',\n",
       "  '.']]"
      ]
     },
     "execution_count": 17,
     "metadata": {},
     "output_type": "execute_result"
    }
   ],
   "source": [
    "tokenize(df)"
   ]
  },
  {
   "cell_type": "code",
   "execution_count": 18,
   "id": "717570f7",
   "metadata": {},
   "outputs": [],
   "source": [
    "ids_of_tokenized_reviews = []\n",
    "def get_ids(tokenized_reviews):\n",
    "    for review in tokenized_reviews:\n",
    "        ids = tokenizer.convert_tokens_to_ids(review)\n",
    "    ids_of_tokenized_reviews.append(ids)\n",
    "    return ids_of_tokenized_reviews"
   ]
  },
  {
   "cell_type": "code",
   "execution_count": 19,
   "id": "86a651ed",
   "metadata": {},
   "outputs": [
    {
     "data": {
      "text/plain": [
       "[[2053,\n",
       "  2028,\n",
       "  24273,\n",
       "  1996,\n",
       "  2732,\n",
       "  10313,\n",
       "  5691,\n",
       "  2000,\n",
       "  2022,\n",
       "  2152,\n",
       "  2396,\n",
       "  1010,\n",
       "  2021,\n",
       "  1996,\n",
       "  4599,\n",
       "  2079,\n",
       "  5987,\n",
       "  1037,\n",
       "  3185,\n",
       "  2008,\n",
       "  2003,\n",
       "  2004,\n",
       "  2204,\n",
       "  2004,\n",
       "  2070,\n",
       "  1997,\n",
       "  1996,\n",
       "  2190,\n",
       "  4178,\n",
       "  1012,\n",
       "  6854,\n",
       "  1010,\n",
       "  2023,\n",
       "  3185,\n",
       "  2018,\n",
       "  1037,\n",
       "  8494,\n",
       "  20043,\n",
       "  1010,\n",
       "  17727,\n",
       "  28128,\n",
       "  7028,\n",
       "  5436,\n",
       "  2008,\n",
       "  2074,\n",
       "  2187,\n",
       "  2033,\n",
       "  13675,\n",
       "  23180,\n",
       "  1011,\n",
       "  2023,\n",
       "  2003,\n",
       "  2011,\n",
       "  2521,\n",
       "  1996,\n",
       "  5409,\n",
       "  1997,\n",
       "  1996,\n",
       "  3157,\n",
       "  1006,\n",
       "  2061,\n",
       "  2521,\n",
       "  1007,\n",
       "  5691,\n",
       "  1012,\n",
       "  2130,\n",
       "  1996,\n",
       "  3382,\n",
       "  2000,\n",
       "  3422,\n",
       "  1996,\n",
       "  2092,\n",
       "  2124,\n",
       "  3494,\n",
       "  11835,\n",
       "  1999,\n",
       "  2178,\n",
       "  3185,\n",
       "  2064,\n",
       "  1005,\n",
       "  1056,\n",
       "  3828,\n",
       "  2023,\n",
       "  3185,\n",
       "  1011,\n",
       "  2164,\n",
       "  1996,\n",
       "  27243,\n",
       "  5019,\n",
       "  2007,\n",
       "  11332,\n",
       "  1010,\n",
       "  11867,\n",
       "  7432,\n",
       "  1998,\n",
       "  16075,\n",
       "  2012,\n",
       "  10930,\n",
       "  3366,\n",
       "  23419,\n",
       "  1012,\n",
       "  1026,\n",
       "  7987,\n",
       "  1013,\n",
       "  1028,\n",
       "  1026,\n",
       "  7987,\n",
       "  1013,\n",
       "  1028,\n",
       "  1045,\n",
       "  2052,\n",
       "  2360,\n",
       "  2023,\n",
       "  3185,\n",
       "  2003,\n",
       "  2025,\n",
       "  4276,\n",
       "  1037,\n",
       "  12635,\n",
       "  1010,\n",
       "  1998,\n",
       "  6684,\n",
       "  4276,\n",
       "  3666,\n",
       "  1010,\n",
       "  2174,\n",
       "  2005,\n",
       "  1996,\n",
       "  2995,\n",
       "  5470,\n",
       "  2040,\n",
       "  3791,\n",
       "  2000,\n",
       "  2156,\n",
       "  2035,\n",
       "  1996,\n",
       "  5691,\n",
       "  1010,\n",
       "  9278,\n",
       "  2075,\n",
       "  2023,\n",
       "  3185,\n",
       "  2003,\n",
       "  2055,\n",
       "  1996,\n",
       "  2069,\n",
       "  2126,\n",
       "  2017,\n",
       "  1005,\n",
       "  2222,\n",
       "  2156,\n",
       "  2009,\n",
       "  1011,\n",
       "  2130,\n",
       "  1996,\n",
       "  5830,\n",
       "  6833,\n",
       "  4468,\n",
       "  2023,\n",
       "  3185,\n",
       "  1012]]"
      ]
     },
     "execution_count": 19,
     "metadata": {},
     "output_type": "execute_result"
    }
   ],
   "source": [
    "get_ids(tokenized_reviews)"
   ]
  },
  {
   "cell_type": "code",
   "execution_count": 20,
   "id": "2e571996",
   "metadata": {},
   "outputs": [
    {
     "data": {
      "text/plain": [
       "1"
      ]
     },
     "execution_count": 20,
     "metadata": {},
     "output_type": "execute_result"
    }
   ],
   "source": [
    "def combine_to_tokens(tokenized_reviews):\n",
    "    for review in tokenized_reviews:\n",
    "        "
   ]
  },
  {
   "cell_type": "code",
   "execution_count": null,
   "id": "8c2e1a55",
   "metadata": {},
   "outputs": [],
   "source": []
  },
  {
   "cell_type": "code",
   "execution_count": null,
   "id": "f59341e8",
   "metadata": {},
   "outputs": [],
   "source": []
  }
 ],
 "metadata": {
  "kernelspec": {
   "display_name": "Python 3 (ipykernel)",
   "language": "python",
   "name": "python3"
  },
  "language_info": {
   "codemirror_mode": {
    "name": "ipython",
    "version": 3
   },
   "file_extension": ".py",
   "mimetype": "text/x-python",
   "name": "python",
   "nbconvert_exporter": "python",
   "pygments_lexer": "ipython3",
   "version": "3.10.10"
  }
 },
 "nbformat": 4,
 "nbformat_minor": 5
}
